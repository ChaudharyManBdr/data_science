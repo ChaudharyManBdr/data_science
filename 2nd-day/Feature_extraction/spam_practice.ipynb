{
 "cells": [
  {
   "cell_type": "code",
   "execution_count": 1,
   "metadata": {
    "collapsed": true
   },
   "outputs": [],
   "source": [
    "import pandas as pd"
   ]
  },
  {
   "cell_type": "code",
   "execution_count": 2,
   "metadata": {
    "collapsed": true
   },
   "outputs": [],
   "source": [
    "df = pd.read_csv(\"smsspamcollection/SMSSpamCollection\",error_bad_lines=False,delimiter=\"\\t\",header=None)"
   ]
  },
  {
   "cell_type": "code",
   "execution_count": 3,
   "metadata": {},
   "outputs": [
    {
     "name": "stdout",
     "output_type": "stream",
     "text": [
      "Number of spam messages: 747\n"
     ]
    }
   ],
   "source": [
    "print ('Number of spam messages:', df[df[0] == 'spam'][0].count())"
   ]
  },
  {
   "cell_type": "code",
   "execution_count": 4,
   "metadata": {},
   "outputs": [
    {
     "name": "stdout",
     "output_type": "stream",
     "text": [
      "Number of ham messages: 4825\n"
     ]
    }
   ],
   "source": [
    "print ('Number of ham messages:', df[df[0] == 'ham'][0].count())"
   ]
  },
  {
   "cell_type": "code",
   "execution_count": 5,
   "metadata": {},
   "outputs": [
    {
     "data": {
      "text/html": [
       "<div>\n",
       "<style>\n",
       "    .dataframe thead tr:only-child th {\n",
       "        text-align: right;\n",
       "    }\n",
       "\n",
       "    .dataframe thead th {\n",
       "        text-align: left;\n",
       "    }\n",
       "\n",
       "    .dataframe tbody tr th {\n",
       "        vertical-align: top;\n",
       "    }\n",
       "</style>\n",
       "<table border=\"1\" class=\"dataframe\">\n",
       "  <thead>\n",
       "    <tr style=\"text-align: right;\">\n",
       "      <th></th>\n",
       "      <th>0</th>\n",
       "      <th>1</th>\n",
       "    </tr>\n",
       "  </thead>\n",
       "  <tbody>\n",
       "    <tr>\n",
       "      <th>0</th>\n",
       "      <td>ham</td>\n",
       "      <td>Go until jurong point, crazy.. Available only ...</td>\n",
       "    </tr>\n",
       "    <tr>\n",
       "      <th>1</th>\n",
       "      <td>ham</td>\n",
       "      <td>Ok lar... Joking wif u oni...</td>\n",
       "    </tr>\n",
       "    <tr>\n",
       "      <th>2</th>\n",
       "      <td>spam</td>\n",
       "      <td>Free entry in 2 a wkly comp to win FA Cup fina...</td>\n",
       "    </tr>\n",
       "    <tr>\n",
       "      <th>3</th>\n",
       "      <td>ham</td>\n",
       "      <td>U dun say so early hor... U c already then say...</td>\n",
       "    </tr>\n",
       "    <tr>\n",
       "      <th>4</th>\n",
       "      <td>ham</td>\n",
       "      <td>Nah I don't think he goes to usf, he lives aro...</td>\n",
       "    </tr>\n",
       "  </tbody>\n",
       "</table>\n",
       "</div>"
      ],
      "text/plain": [
       "      0                                                  1\n",
       "0   ham  Go until jurong point, crazy.. Available only ...\n",
       "1   ham                      Ok lar... Joking wif u oni...\n",
       "2  spam  Free entry in 2 a wkly comp to win FA Cup fina...\n",
       "3   ham  U dun say so early hor... U c already then say...\n",
       "4   ham  Nah I don't think he goes to usf, he lives aro..."
      ]
     },
     "execution_count": 5,
     "metadata": {},
     "output_type": "execute_result"
    }
   ],
   "source": [
    "df.head()"
   ]
  },
  {
   "cell_type": "code",
   "execution_count": 6,
   "metadata": {},
   "outputs": [
    {
     "name": "stderr",
     "output_type": "stream",
     "text": [
      "/home/manav/anaconda3/lib/python3.6/site-packages/sklearn/cross_validation.py:41: DeprecationWarning: This module was deprecated in version 0.18 in favor of the model_selection module into which all the refactored classes and functions are moved. Also note that the interface of the new CV iterators are different from that of this module. This module will be removed in 0.20.\n",
      "  \"This module will be removed in 0.20.\", DeprecationWarning)\n"
     ]
    }
   ],
   "source": [
    "import numpy as np\n",
    "from sklearn.feature_extraction.text import TfidfVectorizer\n",
    "from sklearn.linear_model.logistic import LogisticRegression\n",
    "from sklearn.cross_validation import train_test_split,cross_val_score"
   ]
  },
  {
   "cell_type": "code",
   "execution_count": 7,
   "metadata": {
    "collapsed": true
   },
   "outputs": [],
   "source": [
    "X_train_raw, X_test_raw, y_train, y_test = train_test_split(df[1],df[0])"
   ]
  },
  {
   "cell_type": "code",
   "execution_count": 8,
   "metadata": {},
   "outputs": [
    {
     "data": {
      "text/plain": [
       "3168    When people see my msgs, They think Iam addict...\n",
       "4917                    Just dropped em off, omw back now\n",
       "1552            In e msg jus now. U said thanks for gift.\n",
       "4726    There'll be a minor shindig at my place later ...\n",
       "4966    A few people are at the game, I'm at the mall ...\n",
       "Name: 1, dtype: object"
      ]
     },
     "execution_count": 8,
     "metadata": {},
     "output_type": "execute_result"
    }
   ],
   "source": [
    "X_train_raw.head()"
   ]
  },
  {
   "cell_type": "code",
   "execution_count": 9,
   "metadata": {},
   "outputs": [
    {
     "data": {
      "text/plain": [
       "3168    ham\n",
       "4917    ham\n",
       "1552    ham\n",
       "4726    ham\n",
       "4966    ham\n",
       "Name: 0, dtype: object"
      ]
     },
     "execution_count": 9,
     "metadata": {},
     "output_type": "execute_result"
    }
   ],
   "source": [
    "y_train.head()"
   ]
  },
  {
   "cell_type": "code",
   "execution_count": 10,
   "metadata": {},
   "outputs": [
    {
     "data": {
      "text/plain": [
       "3168    ham\n",
       "4917    ham\n",
       "1552    ham\n",
       "4726    ham\n",
       "4966    ham\n",
       "Name: 0, dtype: object"
      ]
     },
     "execution_count": 10,
     "metadata": {},
     "output_type": "execute_result"
    }
   ],
   "source": [
    "y_train.head()"
   ]
  },
  {
   "cell_type": "code",
   "execution_count": 11,
   "metadata": {
    "collapsed": true
   },
   "outputs": [],
   "source": [
    "vectorizer = TfidfVectorizer()"
   ]
  },
  {
   "cell_type": "code",
   "execution_count": 12,
   "metadata": {
    "collapsed": true
   },
   "outputs": [],
   "source": [
    "X_train = vectorizer.fit_transform(X_train_raw)"
   ]
  },
  {
   "cell_type": "code",
   "execution_count": 13,
   "metadata": {
    "collapsed": true
   },
   "outputs": [],
   "source": [
    "X_test = vectorizer.transform(X_test_raw)"
   ]
  },
  {
   "cell_type": "code",
   "execution_count": 14,
   "metadata": {
    "collapsed": true
   },
   "outputs": [],
   "source": [
    "classifier = LogisticRegression()"
   ]
  },
  {
   "cell_type": "code",
   "execution_count": 15,
   "metadata": {},
   "outputs": [
    {
     "data": {
      "text/plain": [
       "LogisticRegression(C=1.0, class_weight=None, dual=False, fit_intercept=True,\n",
       "          intercept_scaling=1, max_iter=100, multi_class='ovr', n_jobs=1,\n",
       "          penalty='l2', random_state=None, solver='liblinear', tol=0.0001,\n",
       "          verbose=0, warm_start=False)"
      ]
     },
     "execution_count": 15,
     "metadata": {},
     "output_type": "execute_result"
    }
   ],
   "source": [
    "classifier.fit(X_train,y_train)"
   ]
  },
  {
   "cell_type": "code",
   "execution_count": 16,
   "metadata": {
    "collapsed": true
   },
   "outputs": [],
   "source": [
    "predictions = classifier.predict(X_test)"
   ]
  },
  {
   "cell_type": "code",
   "execution_count": 17,
   "metadata": {},
   "outputs": [
    {
     "data": {
      "text/plain": [
       "(1393,)"
      ]
     },
     "execution_count": 17,
     "metadata": {},
     "output_type": "execute_result"
    }
   ],
   "source": [
    "predictions.shape"
   ]
  },
  {
   "cell_type": "code",
   "execution_count": 18,
   "metadata": {},
   "outputs": [
    {
     "data": {
      "text/plain": [
       "(1393,)"
      ]
     },
     "execution_count": 18,
     "metadata": {},
     "output_type": "execute_result"
    }
   ],
   "source": [
    "X_test_raw.shape"
   ]
  },
  {
   "cell_type": "code",
   "execution_count": 19,
   "metadata": {},
   "outputs": [
    {
     "data": {
      "text/plain": [
       "3761                       We'll join the  &lt;#&gt;  bus\n",
       "3396                                          Then i buy.\n",
       "4790    We're on the opposite side from where we dropp...\n",
       "80                                 Sorry, I'll call later\n",
       "250     Congratulations ur awarded 500 of CD vouchers ...\n",
       "3751    Buzz! Hey, my Love ! I think of you and hope y...\n",
       "4368    I like dis sweater fr mango but no more my siz...\n",
       "4589    I wanted to wish you a Happy New Year and I wa...\n",
       "2453    Okay. I've seen it. So i should pick it on fri...\n",
       "3722                Blank is Blank. But wat is blank? Lol\n",
       "1908                                      ELLO BABE U OK?\n",
       "577     I'm tired of arguing with you about this week ...\n",
       "4611                      Just glad to be talking to you.\n",
       "2584                Goodmorning, today i am late for 1hr.\n",
       "5137    YOU VE WON! Your 4* Costa Del Sol Holiday or £...\n",
       "3539    We are pleased to inform that your application...\n",
       "426                             Ok. She'll be ok. I guess\n",
       "3669                    Thanks for loving me so. You rock\n",
       "2693    Urgent Urgent! We have 800 FREE flights to Eur...\n",
       "2550    Yup but not studying surfing lor. I'm in e laz...\n",
       "2279    Hmm...Bad news...Hype park plaza $700 studio t...\n",
       "4863    **FREE MESSAGE**Thanks for using the Auction S...\n",
       "4387    , im .. On the snowboarding trip. I was wonder...\n",
       "661     Under the sea, there lays a rock. In the rock,...\n",
       "3476    Night has ended for another day, morning has c...\n",
       "873                       I'll text you when I drop x off\n",
       "2156                       What year. And how many miles.\n",
       "466     great princess! I love giving and receiving or...\n",
       "4475    Want explicit SEX in 30 secs? Ring 02073162414...\n",
       "658                  You will be in the place of that man\n",
       "                              ...                        \n",
       "5038                         (You didn't hear it from me)\n",
       "664           Leave it de:-). Start Prepare for next:-)..\n",
       "4105     Do u hav any frnd by name ashwini in ur college?\n",
       "1911    Becoz its  &lt;#&gt;  jan whn al the post ofic...\n",
       "3553                            Lol u still feeling sick?\n",
       "2968    NEFT Transaction with reference number  &lt;#&...\n",
       "4389            see you then, we're all christmassy here!\n",
       "3033    Jokin only lar... :-) depends on which phone m...\n",
       "1728                             I went to project centre\n",
       "2075    Yar lor actually we quite fast... Cos da ge sl...\n",
       "1859                     Sir, i am waiting for your call.\n",
       "2425       Oh k k:)but he is not a big hitter.anyway good\n",
       "711     Height of Confidence: All the Aeronautics prof...\n",
       "5025                               Where you. What happen\n",
       "4908                               Then anything special?\n",
       "669                             Have a good evening! Ttyl\n",
       "1018               Shall i send that exe to your mail id.\n",
       "397     Was actually sleeping and still might when u c...\n",
       "3635    Its a big difference.  &lt;#&gt;  versus  &lt;...\n",
       "955             Filthy stories and GIRLS waiting for your\n",
       "601     Mind blastin.. No more Tsunamis will occur fro...\n",
       "1986    The length is e same but e top shorter n i got...\n",
       "5185          I just cooked a rather nice salmon a la you\n",
       "1179    I'm outside islands, head towards hard rock an...\n",
       "2810    Oh yeah I forgot. U can only take 2 out shoppi...\n",
       "807      sure, but make sure he knows we ain't smokin yet\n",
       "4116    Sorry. You never hear unless you book it. One ...\n",
       "1110                      S s..first time..dhoni rocks...\n",
       "560     Aiyo... U always c our ex one... I dunno abt m...\n",
       "4855    Also north carolina and texas atm, you would j...\n",
       "Name: 1, Length: 1393, dtype: object"
      ]
     },
     "execution_count": 19,
     "metadata": {},
     "output_type": "execute_result"
    }
   ],
   "source": [
    "X_test_raw"
   ]
  },
  {
   "cell_type": "code",
   "execution_count": 20,
   "metadata": {},
   "outputs": [
    {
     "data": {
      "text/plain": [
       "0.96482412060301503"
      ]
     },
     "execution_count": 20,
     "metadata": {},
     "output_type": "execute_result"
    }
   ],
   "source": [
    "classifier.score(X_test,y_test)"
   ]
  },
  {
   "cell_type": "code",
   "execution_count": null,
   "metadata": {
    "collapsed": true
   },
   "outputs": [],
   "source": []
  }
 ],
 "metadata": {
  "kernelspec": {
   "display_name": "Python 3",
   "language": "python",
   "name": "python3"
  },
  "language_info": {
   "codemirror_mode": {
    "name": "ipython",
    "version": 3
   },
   "file_extension": ".py",
   "mimetype": "text/x-python",
   "name": "python",
   "nbconvert_exporter": "python",
   "pygments_lexer": "ipython3",
   "version": "3.6.3"
  }
 },
 "nbformat": 4,
 "nbformat_minor": 2
}
