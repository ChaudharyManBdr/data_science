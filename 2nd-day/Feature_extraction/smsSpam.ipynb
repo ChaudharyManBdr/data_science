{
 "cells": [
  {
   "cell_type": "code",
   "execution_count": 20,
   "metadata": {
    "collapsed": true
   },
   "outputs": [],
   "source": [
    "import pandas as pd"
   ]
  },
  {
   "cell_type": "code",
   "execution_count": 25,
   "metadata": {
    "collapsed": true
   },
   "outputs": [],
   "source": [
    "df = pd.read_csv(\"smsspamcollection/SMSSpamCollection\",error_bad_lines=False,delimiter=\"\\t\",header=None)"
   ]
  },
  {
   "cell_type": "code",
   "execution_count": 27,
   "metadata": {},
   "outputs": [
    {
     "name": "stdout",
     "output_type": "stream",
     "text": [
      "Number of spam messages: 747\n"
     ]
    }
   ],
   "source": [
    "print 'Number of spam messages:', df[df[0] == 'spam'][0].count()"
   ]
  },
  {
   "cell_type": "code",
   "execution_count": 28,
   "metadata": {},
   "outputs": [
    {
     "name": "stdout",
     "output_type": "stream",
     "text": [
      "Number of ham messages: 4825\n"
     ]
    }
   ],
   "source": [
    "print 'Number of ham messages:', df[df[0] == 'ham'][0].count()"
   ]
  },
  {
   "cell_type": "code",
   "execution_count": 29,
   "metadata": {},
   "outputs": [
    {
     "data": {
      "text/html": [
       "<div>\n",
       "<style>\n",
       "    .dataframe thead tr:only-child th {\n",
       "        text-align: right;\n",
       "    }\n",
       "\n",
       "    .dataframe thead th {\n",
       "        text-align: left;\n",
       "    }\n",
       "\n",
       "    .dataframe tbody tr th {\n",
       "        vertical-align: top;\n",
       "    }\n",
       "</style>\n",
       "<table border=\"1\" class=\"dataframe\">\n",
       "  <thead>\n",
       "    <tr style=\"text-align: right;\">\n",
       "      <th></th>\n",
       "      <th>0</th>\n",
       "      <th>1</th>\n",
       "    </tr>\n",
       "  </thead>\n",
       "  <tbody>\n",
       "    <tr>\n",
       "      <th>0</th>\n",
       "      <td>ham</td>\n",
       "      <td>Go until jurong point, crazy.. Available only ...</td>\n",
       "    </tr>\n",
       "    <tr>\n",
       "      <th>1</th>\n",
       "      <td>ham</td>\n",
       "      <td>Ok lar... Joking wif u oni...</td>\n",
       "    </tr>\n",
       "    <tr>\n",
       "      <th>2</th>\n",
       "      <td>spam</td>\n",
       "      <td>Free entry in 2 a wkly comp to win FA Cup fina...</td>\n",
       "    </tr>\n",
       "    <tr>\n",
       "      <th>3</th>\n",
       "      <td>ham</td>\n",
       "      <td>U dun say so early hor... U c already then say...</td>\n",
       "    </tr>\n",
       "    <tr>\n",
       "      <th>4</th>\n",
       "      <td>ham</td>\n",
       "      <td>Nah I don't think he goes to usf, he lives aro...</td>\n",
       "    </tr>\n",
       "  </tbody>\n",
       "</table>\n",
       "</div>"
      ],
      "text/plain": [
       "      0                                                  1\n",
       "0   ham  Go until jurong point, crazy.. Available only ...\n",
       "1   ham                      Ok lar... Joking wif u oni...\n",
       "2  spam  Free entry in 2 a wkly comp to win FA Cup fina...\n",
       "3   ham  U dun say so early hor... U c already then say...\n",
       "4   ham  Nah I don't think he goes to usf, he lives aro..."
      ]
     },
     "execution_count": 29,
     "metadata": {},
     "output_type": "execute_result"
    }
   ],
   "source": [
    "df.head()"
   ]
  },
  {
   "cell_type": "code",
   "execution_count": 30,
   "metadata": {
    "collapsed": true
   },
   "outputs": [],
   "source": [
    "import numpy as np\n",
    "from sklearn.feature_extraction.text import TfidfVectorizer\n",
    "from sklearn.linear_model.logistic import LogisticRegression\n",
    "from sklearn.cross_validation import train_test_split,cross_val_score"
   ]
  },
  {
   "cell_type": "code",
   "execution_count": 31,
   "metadata": {
    "collapsed": true
   },
   "outputs": [],
   "source": [
    "X_train_raw, X_test_raw, y_train, y_test = train_test_split(df[1],df[0])"
   ]
  },
  {
   "cell_type": "code",
   "execution_count": 32,
   "metadata": {},
   "outputs": [
    {
     "data": {
      "text/plain": [
       "2555                      I'll reach in ard 20 mins ok...\n",
       "577     I'm tired of arguing with you about this week ...\n",
       "1625    500 free text msgs. Just text ok to 80488 and ...\n",
       "3125    My uncles in Atlanta. Wish you guys a great se...\n",
       "3177    Havent still waitin as usual... Ü come back sc...\n",
       "Name: 1, dtype: object"
      ]
     },
     "execution_count": 32,
     "metadata": {},
     "output_type": "execute_result"
    }
   ],
   "source": [
    "X_train_raw.head()"
   ]
  },
  {
   "cell_type": "code",
   "execution_count": 33,
   "metadata": {},
   "outputs": [
    {
     "data": {
      "text/plain": [
       "2555     ham\n",
       "577      ham\n",
       "1625    spam\n",
       "3125     ham\n",
       "3177     ham\n",
       "Name: 0, dtype: object"
      ]
     },
     "execution_count": 33,
     "metadata": {},
     "output_type": "execute_result"
    }
   ],
   "source": [
    "y_train.head()"
   ]
  },
  {
   "cell_type": "code",
   "execution_count": 34,
   "metadata": {
    "collapsed": true
   },
   "outputs": [],
   "source": [
    "vectorizer = TfidfVectorizer()"
   ]
  },
  {
   "cell_type": "code",
   "execution_count": 35,
   "metadata": {
    "collapsed": true
   },
   "outputs": [],
   "source": [
    "X_train = vectorizer.fit_transform(X_train_raw)"
   ]
  },
  {
   "cell_type": "code",
   "execution_count": 36,
   "metadata": {
    "collapsed": true
   },
   "outputs": [],
   "source": [
    "X_test = vectorizer.transform(X_test_raw)"
   ]
  },
  {
   "cell_type": "code",
   "execution_count": 37,
   "metadata": {
    "collapsed": true
   },
   "outputs": [],
   "source": [
    "classifier = LogisticRegression()"
   ]
  },
  {
   "cell_type": "code",
   "execution_count": 38,
   "metadata": {},
   "outputs": [
    {
     "data": {
      "text/plain": [
       "LogisticRegression(C=1.0, class_weight=None, dual=False, fit_intercept=True,\n",
       "          intercept_scaling=1, max_iter=100, multi_class='ovr', n_jobs=1,\n",
       "          penalty='l2', random_state=None, solver='liblinear', tol=0.0001,\n",
       "          verbose=0, warm_start=False)"
      ]
     },
     "execution_count": 38,
     "metadata": {},
     "output_type": "execute_result"
    }
   ],
   "source": [
    "classifier.fit(X_train,y_train)"
   ]
  },
  {
   "cell_type": "code",
   "execution_count": 39,
   "metadata": {
    "collapsed": true
   },
   "outputs": [],
   "source": [
    "predictions = classifier.predict(X_test)"
   ]
  },
  {
   "cell_type": "code",
   "execution_count": 43,
   "metadata": {},
   "outputs": [
    {
     "data": {
      "text/plain": [
       "(1393,)"
      ]
     },
     "execution_count": 43,
     "metadata": {},
     "output_type": "execute_result"
    }
   ],
   "source": [
    "predictions.shape"
   ]
  },
  {
   "cell_type": "code",
   "execution_count": 44,
   "metadata": {},
   "outputs": [
    {
     "data": {
      "text/plain": [
       "(1393,)"
      ]
     },
     "execution_count": 44,
     "metadata": {},
     "output_type": "execute_result"
    }
   ],
   "source": [
    "X_test_raw.shape"
   ]
  },
  {
   "cell_type": "code",
   "execution_count": 47,
   "metadata": {},
   "outputs": [
    {
     "data": {
      "text/plain": [
       "3682             LOL what happens in Vegas stays in vegas\n",
       "1776            Did u see what I posted on your Facebook?\n",
       "68      Did you hear about the new \"Divorce Barbie\"? I...\n",
       "1196    You have 1 new voicemail. Please call 08719181503\n",
       "1598    URGENT! Your Mobile number has been awarded wi...\n",
       "2160    FREE for 1st week! No1 Nokia tone 4 ur mob eve...\n",
       "2746                         R ü going 4 today's meeting?\n",
       "4873    Hi dis is yijue i would be happy to work wif ü...\n",
       "2059                     Ugh fuck it I'm resubbing to eve\n",
       "3603       Cps is causing the outages to conserve energy.\n",
       "4646                    Are you planning to come chennai?\n",
       "4881    alright tyler's got a minor crisis and has to ...\n",
       "2730    Urgent! Please call 09066612661 from your land...\n",
       "4119    Watch lor. I saw a few swatch one i thk quite ...\n",
       "4175                And pls pls drink plenty plenty water\n",
       "325                        No problem. How are you doing?\n",
       "1027                         Yes da. Any plm at ur office\n",
       "1315    Got but got 2 colours lor. One colour is quite...\n",
       "3991    (Bank of Granite issues Strong-Buy) EXPLOSIVE ...\n",
       "4579    Urgent! call 09066350750 from your landline. Y...\n",
       "5460    December only! Had your mobile 11mths+? You ar...\n",
       "5006    Guess which pub im in? Im as happy as a pig in...\n",
       "3572                       But you dint in touch with me.\n",
       "4050                     Yeah that's the impression I got\n",
       "2146    Sunshine Hols. To claim ur med holiday send a ...\n",
       "2559    Some friends want me to drive em someplace, pr...\n",
       "1446                          I am in a marriage function\n",
       "4295    Kit Strip - you have been billed 150p. Netcoll...\n",
       "693     My sister in law, hope you are having a great ...\n",
       "4008                          I'm reaching home in 5 min.\n",
       "                              ...                        \n",
       "4849          S.this will increase the chance of winning.\n",
       "2536    Can you pls pls send me a mail on all you know...\n",
       "4973           I'm fine. Hope you are good. Do take care.\n",
       "666     En chikku nange bakra msg kalstiya..then had t...\n",
       "2944               No message..no responce..what happend?\n",
       "2801    House-Maid is the murderer, coz the man was mu...\n",
       "2405    Please give it 2  or i will pick it up on Tues...\n",
       "5252    You do your studies alone without anyones help...\n",
       "5250    Urgent! Please call 09061213237 from a landlin...\n",
       "5452             What???? Hello wats talks email address?\n",
       "2693    Urgent Urgent! We have 800 FREE flights to Eur...\n",
       "2531                   So the sun is anti sleep medicine.\n",
       "3857                     I'm ok. Will do my part tomorrow\n",
       "1608    Jus telling u dat i'll b leaving 4 shanghai on...\n",
       "4418     says that he's quitting at least5times a day ...\n",
       "3776    Hi! You just spoke to MANEESHA V. We'd like to...\n",
       "4620                   Sorry, I'll call later In meeting.\n",
       "434                             Booked ticket for pongal?\n",
       "3261    I'm always looking for an excuse to be in the ...\n",
       "4308    I guess it is useless calling u 4 something im...\n",
       "639                  What will we do in the shower, baby?\n",
       "3867         Theoretically yeah, he could be able to come\n",
       "4745                                   Thinking of u ;) x\n",
       "776                      Thanks for picking up the trash.\n",
       "3773                Does uncle timi help in clearing cars\n",
       "3763    FREE for 1st week! No1 Nokia tone 4 ur mob eve...\n",
       "5242                                  Hmm thinking lor...\n",
       "2291    HEY THERE BABE, HOW U DOIN? WOT U UP 2 2NITE L...\n",
       "937       Since when, which side, any fever, any vomitin.\n",
       "4618    Good. do you think you could send me some pix?...\n",
       "Name: 1, Length: 1393, dtype: object"
      ]
     },
     "execution_count": 47,
     "metadata": {},
     "output_type": "execute_result"
    }
   ],
   "source": [
    "X_test_raw"
   ]
  },
  {
   "cell_type": "code",
   "execution_count": null,
   "metadata": {
    "collapsed": true
   },
   "outputs": [],
   "source": []
  }
 ],
 "metadata": {
  "kernelspec": {
   "display_name": "Python 3",
   "language": "python",
   "name": "python3"
  },
  "language_info": {
   "codemirror_mode": {
    "name": "ipython",
    "version": 3
   },
   "file_extension": ".py",
   "mimetype": "text/x-python",
   "name": "python",
   "nbconvert_exporter": "python",
   "pygments_lexer": "ipython3",
   "version": "3.6.3"
  }
 },
 "nbformat": 4,
 "nbformat_minor": 2
}
